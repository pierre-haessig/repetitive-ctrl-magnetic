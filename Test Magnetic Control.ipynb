{
 "cells": [
  {
   "cell_type": "markdown",
   "metadata": {},
   "source": [
    "# Test of repetitive control\n",
    "\n",
    "PH, June 2019\n",
    "\n",
    "\n",
    "Repetitive control connected to a simple process:\n",
    "\n",
    "* fast 1st order dyn\n",
    "* static gain=0.8\n",
    "<img src='testCtrl.png' width='50%'>\n",
    "\n",
    "dependencies to run OM and load results\n",
    "\n",
    "* OMPython: [OMPython doc](https://openmodelica.org/doc/OpenModelicaUsersGuide/latest/ompython.html)\n",
    "* DyMat: https://pypi.org/project/DyMat/, [Tuto DyMat](https://www.fabrice-salvaire.fr/en/blog/first-steps-with-openmodelica/)"
   ]
  },
  {
   "cell_type": "code",
   "execution_count": 1,
   "metadata": {},
   "outputs": [],
   "source": [
    "from pathlib import Path\n",
    "import os\n",
    "import subprocess"
   ]
  },
  {
   "cell_type": "code",
   "execution_count": 23,
   "metadata": {},
   "outputs": [],
   "source": [
    "import matplotlib.pyplot as plt\n",
    "%matplotlib inline"
   ]
  },
  {
   "cell_type": "code",
   "execution_count": 2,
   "metadata": {},
   "outputs": [],
   "source": [
    "from OMPython import OMCSessionZMQ, ModelicaSystem"
   ]
  },
  {
   "cell_type": "code",
   "execution_count": 3,
   "metadata": {},
   "outputs": [],
   "source": [
    "import DyMat"
   ]
  },
  {
   "cell_type": "markdown",
   "metadata": {},
   "source": [
    "Launch OpenModelica test"
   ]
  },
  {
   "cell_type": "code",
   "execution_count": 4,
   "metadata": {},
   "outputs": [
    {
     "name": "stderr",
     "output_type": "stream",
     "text": [
      "2019-06-24 17:20:35,502 - OMPython - INFO - OMC Server is up and running at file:////tmp/openmodelica.pierre.port.3a66c4a99d6249fbb6f47135ba9c93dd pid=23246\n"
     ]
    }
   ],
   "source": [
    "omc = OMCSessionZMQ()"
   ]
  },
  {
   "cell_type": "markdown",
   "metadata": {},
   "source": [
    "OpenModelica version:"
   ]
  },
  {
   "cell_type": "code",
   "execution_count": 5,
   "metadata": {},
   "outputs": [
    {
     "data": {
      "text/plain": [
       "'OpenModelica 1.13.2'"
      ]
     },
     "execution_count": 5,
     "metadata": {},
     "output_type": "execute_result"
    }
   ],
   "source": [
    "omc.sendExpression(\"getVersion()\")"
   ]
  },
  {
   "cell_type": "markdown",
   "metadata": {},
   "source": [
    "## Load model"
   ]
  },
  {
   "cell_type": "markdown",
   "metadata": {},
   "source": [
    "Change current working directory to `./tmp` to avoid file clutter"
   ]
  },
  {
   "cell_type": "code",
   "execution_count": 6,
   "metadata": {},
   "outputs": [],
   "source": [
    "os.chdir('tmp')"
   ]
  },
  {
   "cell_type": "code",
   "execution_count": 7,
   "metadata": {},
   "outputs": [],
   "source": [
    "f = Path('../MagneticTestCtrl.mo')"
   ]
  },
  {
   "cell_type": "markdown",
   "metadata": {},
   "source": [
    "Load and build model"
   ]
  },
  {
   "cell_type": "code",
   "execution_count": 8,
   "metadata": {},
   "outputs": [
    {
     "name": "stderr",
     "output_type": "stream",
     "text": [
      "2019-06-24 17:20:42,134 - OMPython - INFO - OMC Server is up and running at file:////tmp/openmodelica.pierre.port.e6acff05c8f044299ef85af570700dd1 pid=23264\n"
     ]
    },
    {
     "name": "stdout",
     "output_type": "stream",
     "text": [
      "Notification: Automatically loaded package Modelica 3.2.2 due to uses annotation.\n",
      "Notification: Automatically loaded package Complex 3.2.2 due to uses annotation.\n",
      "Notification: Automatically loaded package ModelicaServices 3.2.2 due to uses annotation.\n",
      "\n"
     ]
    }
   ],
   "source": [
    "mod = ModelicaSystem(f.absolute(), 'MagneticTestCtrl.tests.testCtrl')"
   ]
  },
  {
   "cell_type": "code",
   "execution_count": 9,
   "metadata": {},
   "outputs": [
    {
     "data": {
      "text/plain": [
       "'MagneticTestCtrl.tests.testCtrl'"
      ]
     },
     "execution_count": 9,
     "metadata": {},
     "output_type": "execute_result"
    }
   ],
   "source": [
    "mod.modelName"
   ]
  },
  {
   "cell_type": "code",
   "execution_count": 10,
   "metadata": {
    "scrolled": true
   },
   "outputs": [
    {
     "data": {
      "text/plain": [
       "{'addPert.k1': 1.0,\n",
       " 'addPert.k2': 1.0,\n",
       " 'addSin.k1': 1.0,\n",
       " 'addSin.k2': 1.0,\n",
       " 'gainPert.k': 1.0,\n",
       " 'magCtrl.add.k1': 1.0,\n",
       " 'magCtrl.add.k2': 1.0,\n",
       " 'magCtrl.addFF.k1': 1.0,\n",
       " 'magCtrl.addFF.k2': 1.0,\n",
       " 'magCtrl.delay.delayTime': 1.0,\n",
       " 'magCtrl.f0': 50.0,\n",
       " 'magCtrl.fc': 1000.0,\n",
       " 'magCtrl.firstOrder.T': 1.0,\n",
       " 'magCtrl.firstOrder.k': 1.0,\n",
       " 'magCtrl.firstOrder.y_start': 0.0,\n",
       " 'magCtrl.gain.k': 1.0,\n",
       " 'magCtrl.k': 1.0,\n",
       " 'magCtrl.td': None,\n",
       " 'process.T': 1e-05,\n",
       " 'process.k': 0.8,\n",
       " 'process.y_start': 0.0,\n",
       " 'ref.amplitude': 2.0,\n",
       " 'ref.offset': -1.0,\n",
       " 'ref.period': 0.02,\n",
       " 'ref.startTime': 0.0,\n",
       " 'ref.width': 50.0,\n",
       " 'refFilter.T': 1e-05,\n",
       " 'refFilter.k': 1.0,\n",
       " 'refFilter.y_start': 0.0,\n",
       " 'sineF1.amplitude': 1.0,\n",
       " 'sineF1.freqHz': 50.0,\n",
       " 'sineF1.offset': 0.0,\n",
       " 'sineF1.phase': 1.5708,\n",
       " 'sineF1.startTime': 0.0,\n",
       " 'sineF3.amplitude': 1.0,\n",
       " 'sineF3.freqHz': 150.0,\n",
       " 'sineF3.offset': 0.0,\n",
       " 'sineF3.phase': 0.0,\n",
       " 'sineF3.startTime': 0.0,\n",
       " 'magCtrl.firstOrder.initType': 1.0,\n",
       " 'process.initType': 1.0,\n",
       " 'ref.nperiod': -1.0,\n",
       " 'refFilter.initType': 1.0,\n",
       " 'magCtrl.compLag': 1.0}"
      ]
     },
     "execution_count": 10,
     "metadata": {},
     "output_type": "execute_result"
    }
   ],
   "source": [
    "mod.getParameters()"
   ]
  },
  {
   "cell_type": "markdown",
   "metadata": {},
   "source": [
    "## A first simulation"
   ]
  },
  {
   "cell_type": "markdown",
   "metadata": {},
   "source": [
    "How to change parameters:"
   ]
  },
  {
   "cell_type": "code",
   "execution_count": 11,
   "metadata": {},
   "outputs": [],
   "source": [
    "mod.setParameters(**{'gainPert.k':1})"
   ]
  },
  {
   "cell_type": "code",
   "execution_count": 13,
   "metadata": {},
   "outputs": [
    {
     "data": {
      "text/plain": [
       "(1.0, 50.0)"
      ]
     },
     "execution_count": 13,
     "metadata": {},
     "output_type": "execute_result"
    }
   ],
   "source": [
    "mod.getParameters('gainPert.k', 'sineF1.freqHz') # nb : bug when asking for just one param (https://github.com/OpenModelica/OMPython/issues/96)"
   ]
  },
  {
   "cell_type": "code",
   "execution_count": 14,
   "metadata": {},
   "outputs": [
    {
     "data": {
      "text/plain": [
       "{'startTime': 0.0,\n",
       " 'stopTime': 0.2,\n",
       " 'stepSize': 1e-05,\n",
       " 'tolerance': 1e-06,\n",
       " 'solver': 'dassl'}"
      ]
     },
     "execution_count": 14,
     "metadata": {},
     "output_type": "execute_result"
    }
   ],
   "source": [
    "mod.getSimulationOptions()"
   ]
  },
  {
   "cell_type": "markdown",
   "metadata": {},
   "source": [
    "set the step size"
   ]
  },
  {
   "cell_type": "code",
   "execution_count": 50,
   "metadata": {},
   "outputs": [],
   "source": [
    "mod.setSimulationOptions(stepSize = 1e-6)"
   ]
  },
  {
   "cell_type": "markdown",
   "metadata": {},
   "source": [
    "Simulate:"
   ]
  },
  {
   "cell_type": "code",
   "execution_count": 17,
   "metadata": {},
   "outputs": [],
   "source": [
    "mod.simulate() # does nothing.."
   ]
  },
  {
   "cell_type": "markdown",
   "metadata": {},
   "source": [
    "Fixed simulate method:"
   ]
  },
  {
   "cell_type": "code",
   "execution_count": 19,
   "metadata": {},
   "outputs": [],
   "source": [
    "def simulate(mod):\n",
    "    r = subprocess.run([Path(mod.modelName).absolute()], capture_output=True)\n",
    "    print(r.stdout.decode())\n",
    "    return r"
   ]
  },
  {
   "cell_type": "code",
   "execution_count": 52,
   "metadata": {},
   "outputs": [
    {
     "name": "stdout",
     "output_type": "stream",
     "text": [
      "LOG_SUCCESS       | info    | The initialization finished successfully without homotopy method.\n",
      "LOG_SUCCESS       | info    | The simulation finished successfully.\n",
      "\n"
     ]
    }
   ],
   "source": [
    "simulate(mod);"
   ]
  },
  {
   "cell_type": "markdown",
   "metadata": {},
   "source": [
    "### get results\n",
    "\n",
    "* using getSolutions: too long\n",
    "* much faster with DynMat"
   ]
  },
  {
   "cell_type": "code",
   "execution_count": 97,
   "metadata": {},
   "outputs": [],
   "source": [
    "# ym = mod.getSolutions('magCtrl.ym') ## too long"
   ]
  },
  {
   "cell_type": "code",
   "execution_count": 24,
   "metadata": {},
   "outputs": [],
   "source": [
    "res = DyMat.DyMatFile('MagneticTestCtrl.tests.testCtrl_res.mat')"
   ]
  },
  {
   "cell_type": "code",
   "execution_count": 25,
   "metadata": {},
   "outputs": [],
   "source": [
    "t = res.abscissa('magCtrl.ym')[0]\n",
    "t= t*1000 # -> ms\n",
    "u = res.data('process.u')\n",
    "ym = res.data('magCtrl.ym')\n",
    "ysp = res.data('magCtrl.ysp')"
   ]
  },
  {
   "cell_type": "markdown",
   "metadata": {},
   "source": [
    "Plot simulation with zoom on last period"
   ]
  },
  {
   "cell_type": "code",
   "execution_count": 62,
   "metadata": {},
   "outputs": [
    {
     "data": {
      "image/png": "[encoded data removed]",
      "text/plain": [
       "<Figure size 648x180 with 3 Axes>"
      ]
     },
     "metadata": {
      "needs_background": "light"
     },
     "output_type": "display_data"
    }
   ],
   "source": [
    "def plot_res(res, axes=None):\n",
    "    t = res.abscissa('magCtrl.ym')[0]\n",
    "    t= t*1000 # -> ms\n",
    "    u = res.data('process.u')\n",
    "    ym = res.data('magCtrl.ym')\n",
    "    ysp = res.data('magCtrl.ysp')\n",
    "    \n",
    "    if not axes:\n",
    "        fig, (ax1, ax2, ax3) = plt.subplots(1,3, figsize=(9,2.5))\n",
    "    else:\n",
    "        ax1, ax2 = axes\n",
    "        fig = ax1.get_figure()\n",
    "\n",
    "    def plot_data(ax):\n",
    "        ax.plot(t,ysp)\n",
    "        ax.plot(t,ym)\n",
    "        #ax.plot(t,u)\n",
    "\n",
    "        ax.grid()\n",
    "        ax.set(\n",
    "            xlabel='t (ms)'\n",
    "        )\n",
    "\n",
    "    plot_data(ax1)\n",
    "    ax1.set(\n",
    "        xlim = (-5,55),\n",
    "    )\n",
    "    plot_data(ax2)\n",
    "    ax2.set(\n",
    "        xlim = (-5,55),\n",
    "        ylim = (0.7, 1.1)\n",
    "    )\n",
    "    plot_data(ax3)\n",
    "    ax3.set(\n",
    "        xlim = (179,191),\n",
    "        ylim = (0.9, 1.1)\n",
    "    )\n",
    "    fig.tight_layout()\n",
    "\n",
    "plot_res(res)"
   ]
  },
  {
   "cell_type": "markdown",
   "metadata": {},
   "source": [
    "## Parametric analysis"
   ]
  },
  {
   "cell_type": "markdown",
   "metadata": {},
   "source": [
    "Nominal params"
   ]
  },
  {
   "cell_type": "code",
   "execution_count": 54,
   "metadata": {},
   "outputs": [],
   "source": [
    "params = {\n",
    "    'gainPert.k': 1.0,\n",
    "    'magCtrl.k': 1.0,\n",
    "    'magCtrl.fc': 1e3,\n",
    "}"
   ]
  },
  {
   "cell_type": "code",
   "execution_count": 55,
   "metadata": {},
   "outputs": [],
   "source": [
    "variants = {'nom': params}"
   ]
  },
  {
   "cell_type": "markdown",
   "metadata": {},
   "source": [
    "variants:\n",
    "\n",
    "* no perturbation\n",
    "* higher feedback gain K=3"
   ]
  },
  {
   "cell_type": "code",
   "execution_count": 56,
   "metadata": {},
   "outputs": [],
   "source": [
    "variants['nopert'] = params.copy()\n",
    "variants['nopert']['gainPert.k'] = 0.\n",
    "\n",
    "variants['nopert_HK'] = variants['nopert'].copy()\n",
    "variants['nopert_HK']['magCtrl.k'] = 3\n",
    "\n",
    "variants['HK'] = params.copy()\n",
    "variants['HK']['magCtrl.k'] = 3"
   ]
  },
  {
   "cell_type": "code",
   "execution_count": 57,
   "metadata": {},
   "outputs": [
    {
     "data": {
      "text/plain": [
       "{'nom': {'gainPert.k': 1.0, 'magCtrl.k': 1.0, 'magCtrl.fc': 1000.0},\n",
       " 'nopert': {'gainPert.k': 0.0, 'magCtrl.k': 1.0, 'magCtrl.fc': 1000.0},\n",
       " 'nopert_HK': {'gainPert.k': 0.0, 'magCtrl.k': 3, 'magCtrl.fc': 1000.0},\n",
       " 'HK': {'gainPert.k': 1.0, 'magCtrl.k': 3, 'magCtrl.fc': 1000.0}}"
      ]
     },
     "execution_count": 57,
     "metadata": {},
     "output_type": "execute_result"
    }
   ],
   "source": [
    "variants"
   ]
  },
  {
   "cell_type": "markdown",
   "metadata": {},
   "source": [
    "Run all the simulations"
   ]
  },
  {
   "cell_type": "code",
   "execution_count": 58,
   "metadata": {},
   "outputs": [
    {
     "name": "stdout",
     "output_type": "stream",
     "text": [
      "LOG_SUCCESS       | info    | The initialization finished successfully without homotopy method.\n",
      "LOG_SUCCESS       | info    | The simulation finished successfully.\n",
      "\n",
      "LOG_SUCCESS       | info    | The initialization finished successfully without homotopy method.\n",
      "LOG_SUCCESS       | info    | The simulation finished successfully.\n",
      "\n",
      "LOG_SUCCESS       | info    | The initialization finished successfully without homotopy method.\n",
      "LOG_SUCCESS       | info    | The simulation finished successfully.\n",
      "\n",
      "LOG_SUCCESS       | info    | The initialization finished successfully without homotopy method.\n",
      "LOG_SUCCESS       | info    | The simulation finished successfully.\n",
      "\n"
     ]
    },
    {
     "data": {
      "text/plain": [
       "{'nom': <DyMat.DyMatFile at 0x7fb710a68be0>,\n",
       " 'nopert': <DyMat.DyMatFile at 0x7fb7109f2748>,\n",
       " 'nopert_HK': <DyMat.DyMatFile at 0x7fb70fdfe1d0>,\n",
       " 'HK': <DyMat.DyMatFile at 0x7fb70fdf4ac8>}"
      ]
     },
     "execution_count": 58,
     "metadata": {},
     "output_type": "execute_result"
    }
   ],
   "source": [
    "res_dict = {}\n",
    "for v in variants:\n",
    "    mod.setParameters(**variants[v])\n",
    "    simulate(mod)\n",
    "    res = DyMat.DyMatFile(mod.modelName + '_res.mat')\n",
    "    res_dict[v] = res\n",
    "res_dict"
   ]
  },
  {
   "cell_type": "markdown",
   "metadata": {},
   "source": [
    "Without perturbation"
   ]
  },
  {
   "cell_type": "code",
   "execution_count": 66,
   "metadata": {},
   "outputs": [
    {
     "data": {
      "image/png": "[encoded data removed]",
      "text/plain": [
       "<Figure size 648x180 with 3 Axes>"
      ]
     },
     "metadata": {
      "needs_background": "light"
     },
     "output_type": "display_data"
    },
    {
     "data": {
      "image/png": "[encoded data removed]",
      "text/plain": [
       "<Figure size 648x180 with 3 Axes>"
      ]
     },
     "metadata": {
      "needs_background": "light"
     },
     "output_type": "display_data"
    }
   ],
   "source": [
    "plot_res(res_dict['nopert'])\n",
    "plt.savefig('../testCtrl_nopert.png', dpi=200)\n",
    "plot_res(res_dict['nopert_HK'])\n",
    "plt.savefig('../testCtrl_nopert_K3.png', dpi=200)"
   ]
  },
  {
   "cell_type": "markdown",
   "metadata": {},
   "source": [
    "With perturbation"
   ]
  },
  {
   "cell_type": "code",
   "execution_count": 68,
   "metadata": {},
   "outputs": [
    {
     "data": {
      "image/png": "[encoded data removed]",
      "text/plain": [
       "<Figure size 648x180 with 3 Axes>"
      ]
     },
     "metadata": {
      "needs_background": "light"
     },
     "output_type": "display_data"
    },
    {
     "data": {
      "image/png": "[encoded data removed]",
      "text/plain": [
       "<Figure size 648x180 with 3 Axes>"
      ]
     },
     "metadata": {
      "needs_background": "light"
     },
     "output_type": "display_data"
    }
   ],
   "source": [
    "plot_res(res_dict['nom'])\n",
    "plt.savefig('../testCtrl_pert.png', dpi=200)\n",
    "plot_res(res_dict['HK'])\n",
    "plt.savefig('../testCtrl_pert_K3.png', dpi=200)"
   ]
  },
  {
   "cell_type": "code",
   "execution_count": null,
   "metadata": {},
   "outputs": [],
   "source": []
  }
 ],
 "metadata": {
  "kernelspec": {
   "display_name": "Python 3",
   "language": "python",
   "name": "python3"
  },
  "language_info": {
   "codemirror_mode": {
    "name": "ipython",
    "version": 3
   },
   "file_extension": ".py",
   "mimetype": "text/x-python",
   "name": "python",
   "nbconvert_exporter": "python",
   "pygments_lexer": "ipython3",
   "version": "3.7.3"
  }
 },
 "nbformat": 4,
 "nbformat_minor": 2
}
